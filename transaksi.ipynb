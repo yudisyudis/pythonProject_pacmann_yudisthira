{
 "cells": [
  {
   "cell_type": "code",
   "execution_count": 1,
   "id": "3a150571",
   "metadata": {},
   "outputs": [],
   "source": [
    "import transaksi\n",
    "from transaksi import Transaksi"
   ]
  },
  {
   "cell_type": "code",
   "execution_count": 2,
   "id": "9c855801",
   "metadata": {},
   "outputs": [
    {
     "name": "stdout",
     "output_type": "stream",
     "text": [
      "Selamat Datang Customer 70382 di Toko Online\n",
      "siap memulai belanja? (Y/N) y\n",
      "mau beli apa: ayam goreng\n",
      "masukkan jumlah pembelian: 2\n",
      "masukkan harga per itemnya: 20000\n",
      "belanjaan anda {'ayam goreng': [2, 20000]}\n",
      "apakah data sudah final? (Y/N): n\n",
      "tulis 1 untuk nambah barang, 2 untuk merubah barang, 3 untuk hapus barang: 2\n",
      "tulis 1 untuk ubah nama, 2 untuk ubah jumlah, 3 untuk ubah harga: 2\n",
      "masukkan barang yang jumlahnya mau diganti: ayam goreng\n",
      "masukkan jumlah baru: 6\n",
      "daftar belanja baru anda {'ayam goreng': [6, 20000]}\n",
      "apakah data sudah final? (Y/N): n\n",
      "tulis 1 untuk nambah barang, 2 untuk rubah barang, 3 untuk hapus barang: 2\n",
      "tulis 1 untuk ubah nama, 2 untuk ubah jumlah, 3 untuk ubah harga: 3\n",
      "masukkan barang yang harganya mau diganti: ayam goreng\n",
      "masukkan harga baru: 50000\n",
      "daftar belanja baru anda {'ayam goreng': [2, 50000]}\n",
      "apakah data sudah final? (Y/N): y\n",
      "total harga tiap item yang anda beli: {'ayam goreng': [2, 50000, 100000]}\n",
      "ingin lanjut ke ringkasan pembayaran? (Y/N): y\n",
      "total belanjaan anda seharga: Rp.100000\n"
     ]
    }
   ],
   "source": [
    "transaksi_1 = Transaksi()"
   ]
  },
  {
   "cell_type": "raw",
   "id": "af4ba915",
   "metadata": {},
   "source": [
    "transaksi_1"
   ]
  },
  {
   "cell_type": "code",
   "execution_count": 6,
   "id": "640ce9b4",
   "metadata": {},
   "outputs": [
    {
     "data": {
      "text/plain": [
       "<transaksi.Transaksi at 0x246901d28e0>"
      ]
     },
     "execution_count": 6,
     "metadata": {},
     "output_type": "execute_result"
    }
   ],
   "source": [
    "transaksi_1"
   ]
  },
  {
   "cell_type": "code",
   "execution_count": null,
   "id": "9fa841f9",
   "metadata": {},
   "outputs": [],
   "source": []
  }
 ],
 "metadata": {
  "kernelspec": {
   "display_name": "Python 3 (ipykernel)",
   "language": "python",
   "name": "python3"
  },
  "language_info": {
   "codemirror_mode": {
    "name": "ipython",
    "version": 3
   },
   "file_extension": ".py",
   "mimetype": "text/x-python",
   "name": "python",
   "nbconvert_exporter": "python",
   "pygments_lexer": "ipython3",
   "version": "3.9.12"
  }
 },
 "nbformat": 4,
 "nbformat_minor": 5
}
